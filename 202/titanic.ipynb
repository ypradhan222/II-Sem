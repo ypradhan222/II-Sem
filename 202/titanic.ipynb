{
 "cells": [
  {
   "cell_type": "code",
   "execution_count": 9,
   "metadata": {},
   "outputs": [],
   "source": [
    "from pyspark.sql import SparkSession\n",
    "from pyspark.sql.functions import mean\n",
    "from pyspark.sql.functions import avg,col,count,when,sum,floor,expr"
   ]
  },
  {
   "cell_type": "code",
   "execution_count": null,
   "metadata": {},
   "outputs": [],
   "source": [
    "sessionStart = SparkSession.builder.appName(\"Titanic calc\").getOrCreate()\n",
    "dataFrame = sessionStart.read.csv(\"Titanic-Dataset.csv\",header =True,inferSchema=True)\n",
    "sc = sessionStart.sparkContext\n",
    "dataFrame.show(truncate=False)"
   ]
  },
  {
   "cell_type": "code",
   "execution_count": 6,
   "metadata": {},
   "outputs": [
    {
     "name": "stdout",
     "output_type": "stream",
     "text": [
      "Average for ticket fare\n",
      "+----------------+\n",
      "|Mean_ticket_fare|\n",
      "+----------------+\n",
      "|32.2042079685746|\n",
      "+----------------+\n",
      "\n"
     ]
    },
    {
     "name": "stderr",
     "output_type": "stream",
     "text": [
      "24/03/09 20:57:13 WARN SparkStringUtils: Truncated the string representation of a plan since it was too large. This behavior can be adjusted by setting 'spark.sql.debug.maxToStringFields'.\n"
     ]
    },
    {
     "name": "stdout",
     "output_type": "stream",
     "text": [
      "+-------+-----------------+-------------------+------------------+--------------------+------+------------------+------------------+-------------------+------------------+-----------------+-----+--------+\n",
      "|summary|      PassengerId|           Survived|            Pclass|                Name|   Sex|               Age|             SibSp|              Parch|            Ticket|             Fare|Cabin|Embarked|\n",
      "+-------+-----------------+-------------------+------------------+--------------------+------+------------------+------------------+-------------------+------------------+-----------------+-----+--------+\n",
      "|  count|              891|                891|               891|                 891|   891|               714|               891|                891|               891|              891|  204|     889|\n",
      "|   mean|            446.0| 0.3838383838383838| 2.308641975308642|                NULL|  NULL| 29.69911764705882|0.5230078563411896|0.38159371492704824|260318.54916792738| 32.2042079685746| NULL|    NULL|\n",
      "| stddev|257.3538420152301|0.48659245426485753|0.8360712409770491|                NULL|  NULL|14.526497332334035|1.1027434322934315| 0.8060572211299488|471609.26868834975|49.69342859718089| NULL|    NULL|\n",
      "|    min|                1|                  0|                 1|\"Andersson, Mr. A...|female|              0.42|                 0|                  0|            110152|              0.0|  A10|       C|\n",
      "|    max|              891|                  1|                 3|van Melkebeke, Mr...|  male|              80.0|                 8|                  6|         WE/P 5735|         512.3292|    T|       S|\n",
      "+-------+-----------------+-------------------+------------------+--------------------+------+------------------+------------------+-------------------+------------------+-----------------+-----+--------+\n",
      "\n"
     ]
    }
   ],
   "source": [
    "#Calcalation of Mean of Tickets\n",
    "print(\"Average for ticket fare\")\n",
    "new_columns = [col.replace('\"', '') for col in dataFrame.columns]\n",
    "dataFrame = dataFrame.toDF(*new_columns)\n",
    "result_df = dataFrame.agg(mean(\"`Fare`\").alias(\"Mean_ticket_fare\"))\n",
    "result_df.show()\n",
    "dataFrame.describe().show()"
   ]
  },
  {
   "cell_type": "code",
   "execution_count": 10,
   "metadata": {},
   "outputs": [
    {
     "name": "stdout",
     "output_type": "stream",
     "text": [
      "+--------+----+----+------+----+----+----+\n",
      "|Survived| Min|  Q1|Median|  Q3| Max| IQR|\n",
      "+--------+----+----+------+----+----+----+\n",
      "|       1|0.42|19.0|  28.0|36.0|80.0|17.0|\n",
      "|       0| 1.0|21.0|  28.0|39.0|74.0|18.0|\n",
      "+--------+----+----+------+----+----+----+\n",
      "\n"
     ]
    }
   ],
   "source": [
    "#Six point summary of age \n",
    "summary = dataFrame.groupBy(\"Survived\").agg(expr(\"percentile_approx(Age, 0.0) as Min\"),\n",
    "                                      expr(\"percentile_approx(Age, 0.25) as Q1\"),\n",
    "                                      expr(\"percentile_approx(Age, 0.5) as Median\"),\n",
    "                                      expr(\"percentile_approx(Age, 0.75) as Q3\"),\n",
    "                                      expr(\"percentile_approx(Age, 1.0) as Max\"),\n",
    "                                      expr(\"percentile_approx(Age, 0.75) - percentile_approx(Age, 0.25) as IQR\"))\n",
    "summary.show()"
   ]
  },
  {
   "cell_type": "code",
   "execution_count": 12,
   "metadata": {},
   "outputs": [
    {
     "name": "stdout",
     "output_type": "stream",
     "text": [
      "+-----+-------------------+\n",
      "|Sibsp|      Survival Rate|\n",
      "+-----+-------------------+\n",
      "|    1| 0.5358851674641149|\n",
      "|    3|               0.25|\n",
      "|    5|                0.0|\n",
      "|    4|0.16666666666666666|\n",
      "|    8|                0.0|\n",
      "|    2| 0.4642857142857143|\n",
      "|    0|0.34539473684210525|\n",
      "+-----+-------------------+\n",
      "\n"
     ]
    }
   ],
   "source": [
    "# Calculate survival rate based on siblings\n",
    "survivalrate = dataFrame.groupBy(\"Sibsp\") \\\n",
    "                  .agg((avg(when(col(\"Survived\") == 1, 1).otherwise(0))).alias(\"Survival Rate\"))\n",
    "survivalrate.show()"
   ]
  },
  {
   "cell_type": "code",
   "execution_count": 13,
   "metadata": {},
   "outputs": [
    {
     "name": "stdout",
     "output_type": "stream",
     "text": [
      "+-----+-------------------+\n",
      "|Sibsp|      Survival Rate|\n",
      "+-----+-------------------+\n",
      "|    1| 0.5358851674641149|\n",
      "|    3|               0.25|\n",
      "|    5|                0.0|\n",
      "|    4|0.16666666666666666|\n",
      "|    8|                0.0|\n",
      "|    2| 0.4642857142857143|\n",
      "|    0|0.34539473684210525|\n",
      "+-----+-------------------+\n",
      "\n"
     ]
    }
   ],
   "source": [
    "#Survival rate based on siblings\n",
    "survivalrate = dataFrame.groupBy(\"Sibsp\") \\\n",
    "                  .agg((avg(when(col(\"Survived\") == 1, 1).otherwise(0))).alias(\"Survival Rate\"))\n",
    "survivalrate.show()"
   ]
  },
  {
   "cell_type": "code",
   "execution_count": 14,
   "metadata": {},
   "outputs": [
    {
     "name": "stdout",
     "output_type": "stream",
     "text": [
      "Rate of Survival With siblings\n",
      "+------------------+\n",
      "| Rating-NoSiblings|\n",
      "+------------------+\n",
      "|0.4664310954063604|\n",
      "+------------------+\n",
      "\n"
     ]
    }
   ],
   "source": [
    "print(\"Rate of Survival With siblings\")\n",
    "dataFrame.filter(dataFrame['SibSp'] > 0).agg(avg(\"Survived\").alias(\"Rating-NoSiblings\")).show()"
   ]
  },
  {
   "cell_type": "code",
   "execution_count": 15,
   "metadata": {},
   "outputs": [
    {
     "name": "stdout",
     "output_type": "stream",
     "text": [
      "+------+-------------------+\n",
      "|   Sex|        Probability|\n",
      "+------+-------------------+\n",
      "|female| 0.7420382165605095|\n",
      "|  male|0.18890814558058924|\n",
      "+------+-------------------+\n",
      "\n"
     ]
    }
   ],
   "source": [
    "#What is the probability of survival based on the gender\n",
    "probability = dataFrame.groupBy(\"Sex\") \\\n",
    "                   .agg((sum(when(col(\"Survived\") == 1, 1).otherwise(0)) / count(\"*\")).alias(\"Probability\"))\n",
    "probability.show()"
   ]
  },
  {
   "cell_type": "code",
   "execution_count": 18,
   "metadata": {},
   "outputs": [
    {
     "name": "stdout",
     "output_type": "stream",
     "text": [
      "+---------+--------------------+-------------------+\n",
      "|Age_Group|Female Survival Rate| Male Survival Rate|\n",
      "+---------+--------------------+-------------------+\n",
      "|     NULL|  0.6792452830188679|               NULL|\n",
      "|     NULL|                NULL|0.12903225806451613|\n",
      "|        0|  0.6333333333333333|            0.59375|\n",
      "|       10|  0.7555555555555555|0.12280701754385964|\n",
      "|       20|  0.7222222222222222|0.16891891891891891|\n",
      "|       30|  0.8333333333333334|0.21495327102803738|\n",
      "|       40|              0.6875|0.21052631578947367|\n",
      "|       50|  0.8888888888888888|0.13333333333333333|\n",
      "|       60|                 1.0|0.13333333333333333|\n",
      "|       70|                NULL|                0.0|\n",
      "|       80|                NULL|                1.0|\n",
      "+---------+--------------------+-------------------+\n",
      "\n"
     ]
    }
   ],
   "source": [
    "# Calculate Based on Age Groups\n",
    "\n",
    "df = dataFrame.withColumn(\"Age_Group\", floor(col(\"Age\") / 10) * 10)\n",
    "\n",
    "age_group_survival = df.groupBy(\"Age_Group\").agg((sum(when(col(\"Survived\") == 1, 1).otherwise(0)) / count(\"*\")).alias(\"Survival Rate\"))\n",
    "gender_survival = df.groupBy(\"Age_Group\", \"Sex\").agg((sum(when(col(\"Survived\") == 1, 1).otherwise(0)) / count(\"*\")).alias(\"Survival Rate\"))\n",
    "\n",
    "female_survival = gender_survival.filter(col(\"Sex\") == \"female\").select(\"Age_Group\", \"Survival Rate\").withColumnRenamed(\"Survival Rate\", \"Female Survival Rate\")\n",
    "male_survival = gender_survival.filter(col(\"Sex\") == \"male\").select(\"Age_Group\", \"Survival Rate\").withColumnRenamed(\"Survival Rate\", \"Male Survival Rate\")\n",
    "\n",
    "combined = female_survival.join(male_survival, \"Age_Group\", \"outer\").orderBy(\"Age_Group\")\n",
    "combined.show()"
   ]
  },
  {
   "cell_type": "code",
   "execution_count": 19,
   "metadata": {},
   "outputs": [
    {
     "name": "stdout",
     "output_type": "stream",
     "text": [
      "Embarked City Names\n",
      "+--------+\n",
      "|Embarked|\n",
      "+--------+\n",
      "|       Q|\n",
      "|       C|\n",
      "|       S|\n",
      "|    NULL|\n",
      "+--------+\n",
      "\n",
      "Survival rates based on City \n",
      "+--------+-------------------+\n",
      "|Embarked|   Rate Of Survival|\n",
      "+--------+-------------------+\n",
      "|       Q|0.38961038961038963|\n",
      "|    NULL|                1.0|\n",
      "|       C| 0.5535714285714286|\n",
      "|       S|0.33695652173913043|\n",
      "+--------+-------------------+\n",
      "\n"
     ]
    }
   ],
   "source": [
    "#What is the average survival rate based on the Embarked City?\n",
    "\n",
    "print(\"Embarked City Names\")\n",
    "dataFrame.select('Embarked').distinct().show()\n",
    "print(\"Survival rates based on City \")\n",
    "dataFrame.groupBy(\"Embarked\").agg(avg(\"Survived\").alias(\"Rate Of Survival\")).show()"
   ]
  },
  {
   "cell_type": "code",
   "execution_count": 20,
   "metadata": {},
   "outputs": [
    {
     "name": "stdout",
     "output_type": "stream",
     "text": [
      "+------+--------------+---------------+-------------------+\n",
      "|Pclass|TotalSurvivors|TotalPassengers|       SurvivalRate|\n",
      "+------+--------------+---------------+-------------------+\n",
      "|     1|           136|            216| 0.6296296296296297|\n",
      "|     3|           119|            491|0.24236252545824846|\n",
      "|     2|            87|            184|0.47282608695652173|\n",
      "+------+--------------+---------------+-------------------+\n",
      "\n"
     ]
    }
   ],
   "source": [
    "#A passenger from first class is more likely to sucummb then the passenger from 3rd Class\n",
    "\n",
    "total_passengers_by_class = dataFrame.groupBy(\"Pclass\").agg(count(\"*\").alias(\"TotalPassengers\"))\n",
    "\n",
    "survivors_by_class = dataFrame.groupBy(\"Pclass\").agg(sum(when(col(\"Survived\") == 1, 1).otherwise(0)).alias(\"TotalSurvivors\"))\n",
    "\n",
    "\n",
    "survival_rate_by_class = survivors_by_class.join(total_passengers_by_class, \"Pclass\") \\\n",
    "                                           .withColumn(\"SurvivalRate\", col(\"TotalSurvivors\") / col(\"TotalPassengers\"))\n",
    "survival_rate_by_class.show()\n"
   ]
  },
  {
   "cell_type": "markdown",
   "metadata": {},
   "source": [
    "#Wrong as survival rate of first class is more than third class"
   ]
  },
  {
   "cell_type": "code",
   "execution_count": 21,
   "metadata": {},
   "outputs": [
    {
     "name": "stdout",
     "output_type": "stream",
     "text": [
      "Group with the highest survival rate:\n",
      "Row(Age=35.0, Sex='female', Pclass=2, Embarked='S', SurvivalRate=1.0)\n",
      "\n",
      "Group with the lowest survival rate:\n",
      "Row(Age=28.5, Sex='male', Pclass=3, Embarked='C', SurvivalRate=0.0)\n"
     ]
    }
   ],
   "source": [
    "\n",
    "#Group which has highest and lowest survival rate based on age,group,gender,class and boarding city\n",
    "\n",
    "groups = [\"Age\", \"Sex\", \"Pclass\", \"Embarked\"]\n",
    "\n",
    "survival_rates = dataFrame.groupBy(*groups) \\\n",
    "                   .agg(avg(when(col(\"Survived\") == 1, 1).otherwise(0)).alias(\"SurvivalRate\"))\n",
    "\n",
    "highest_survival_group = survival_rates.orderBy(col(\"SurvivalRate\").desc()).first()\n",
    "\n",
    "lowest_survival_group = survival_rates.orderBy(col(\"SurvivalRate\")).first()\n",
    "\n",
    "print(\"Group with the highest survival rate:\")\n",
    "print(highest_survival_group)\n",
    "\n",
    "print(\"\\nGroup with the lowest survival rate:\")\n",
    "print(lowest_survival_group)"
   ]
  },
  {
   "cell_type": "code",
   "execution_count": 24,
   "metadata": {},
   "outputs": [],
   "source": [
    "sessionStart.stop()"
   ]
  },
  {
   "cell_type": "code",
   "execution_count": null,
   "metadata": {},
   "outputs": [],
   "source": []
  }
 ],
 "metadata": {
  "kernelspec": {
   "display_name": "Python 3",
   "language": "python",
   "name": "python3"
  },
  "language_info": {
   "codemirror_mode": {
    "name": "ipython",
    "version": 3
   },
   "file_extension": ".py",
   "mimetype": "text/x-python",
   "name": "python",
   "nbconvert_exporter": "python",
   "pygments_lexer": "ipython3",
   "version": "3.10.12"
  }
 },
 "nbformat": 4,
 "nbformat_minor": 2
}
