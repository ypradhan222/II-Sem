{
  "cells": [
    {
      "cell_type": "code",
      "execution_count": null,
      "metadata": {
        "id": "2gl2pzkK59ks"
      },
      "outputs": [],
      "source": [
        "import torch\n",
        "from torch import nn\n",
        "from torchvision import datasets\n",
        "from torch.utils.data import DataLoader\n",
        "from torchvision.transforms  import ToTensor\n",
        "import torch.nn.functional as F"
      ]
    },
    {
      "cell_type": "code",
      "execution_count": null,
      "metadata": {
        "id": "v5oSsMu790Kf"
      },
      "outputs": [],
      "source": [
        "#Dowloading the training and testing datasets\n",
        "training_set = datasets.FashionMNIST(\n",
        "    root = \"data\",\n",
        "    train = True,\n",
        "    download = True,\n",
        "    transform = ToTensor(),\n",
        ")\n",
        "test_set = datasets.FashionMNIST(\n",
        "    root = \"data\",\n",
        "    train = False,\n",
        "    download= True,\n",
        "    transform =  ToTensor(),\n",
        ")"
      ]
    },
    {
      "cell_type": "code",
      "execution_count": null,
      "metadata": {
        "id": "-tmsSbB06o4l"
      },
      "outputs": [],
      "source": [
        "batch_size = 64  #Batches of 64\n",
        "training_loader = DataLoader(training_set,batch_size=batch_size)\n",
        "test_loader = DataLoader(test_set,batch_size=batch_size)\n"
      ]
    },
    {
      "cell_type": "code",
      "execution_count": null,
      "metadata": {
        "colab": {
          "base_uri": "https://localhost:8080/"
        },
        "id": "r8FtUDvc90IM",
        "outputId": "05adfb7a-cb86-4b9f-9f18-be90d7b8ae0e"
      },
      "outputs": [
        {
          "output_type": "stream",
          "name": "stdout",
          "text": [
            "MPS(\n",
            "  (flatten): Flatten(start_dim=1, end_dim=-1)\n",
            "  (linear_relu_stack): Sequential(\n",
            "    (0): Linear(in_features=784, out_features=64, bias=True)\n",
            "    (1): ReLU()\n",
            "    (2): Linear(in_features=64, out_features=128, bias=True)\n",
            "    (3): ReLU()\n",
            "    (4): Linear(in_features=128, out_features=10, bias=True)\n",
            "  )\n",
            ")\n"
          ]
        }
      ],
      "source": [
        "class MPS(nn.Module):\n",
        "  def __init__(self):\n",
        "    super().__init__()\n",
        "    self.flatten = nn.Flatten()  #changing the tensor in 1D\n",
        "    self.linear_relu_stack = nn.Sequential(\n",
        "      nn.Linear(28*28,64),\n",
        "      nn.ReLU(), #Activation function for first hidden layer\n",
        "      nn.Linear(64,128),\n",
        "      nn.ReLU(),  #For second hidden layer\n",
        "      nn.Linear(128,10),\n",
        "      # nn.Softmax(dim=1)\n",
        "    )\n",
        "  def forward(self,x):\n",
        "    x = self.flatten(x)\n",
        "    logits = self.linear_relu_stack(x)\n",
        "    return logits\n",
        "\n",
        "model = MPS()\n",
        "print(model)\n"
      ]
    },
    {
      "cell_type": "code",
      "execution_count": null,
      "metadata": {
        "id": "u38RrnHKCY2h"
      },
      "outputs": [],
      "source": [
        "loss_function = nn.CrossEntropyLoss()   #Here the softmax function is already incorperated\n",
        "                                        #this cross entropy loss function\n",
        "optimizer = torch.optim.SGD(model.parameters(),lr = 0.1) #Learning rate changed to 0.1\n"
      ]
    },
    {
      "cell_type": "code",
      "execution_count": null,
      "metadata": {
        "id": "u55diUp8Co_3"
      },
      "outputs": [],
      "source": [
        "def train(dataloader,model,loss_function,optimizer):\n",
        "  size = len(dataloader.dataset)\n",
        "  model.train() #setting the model in training mode\n",
        "  for batch,(X,y) in enumerate(dataloader):\n",
        "    optimizer.zero_grad()\n",
        "    pred = model(X)  #model's prediction\n",
        "    loss = loss_function(pred,y) #loss between predicted o/p and ground truth\n",
        "    loss.backward()  #backpropagation\n",
        "    optimizer.step()\n",
        "    if batch%100 == 0:\n",
        "      loss,current = loss.item(),(batch+1)*len(X)\n",
        "      print(f\"Loss : {loss:>7f} [{current:>5d}/{size:>5d}]\")"
      ]
    },
    {
      "cell_type": "code",
      "execution_count": null,
      "metadata": {
        "id": "nIazHxZnJN2y"
      },
      "outputs": [],
      "source": [
        "def test(dataloader,model,loss_function):\n",
        "  size = len(dataloader.dataset) #total size\n",
        "  no_of_batches = len(dataloader)\n",
        "  model.eval()  #setting in evaluation mode\n",
        "  test_loss , correct = 0,0\n",
        "  with torch.no_grad(): #no gradient computation during testing\n",
        "    for X,y in dataloader:\n",
        "      pred = model(X)\n",
        "      test_loss += loss_function(pred,y).item()\n",
        "      correct += (pred.argmax(1) == y).type(torch.float).sum().item()\n",
        "  test_loss /= no_of_batches\n",
        "  correct /= size\n",
        "  print(f\"Test Error: \\n Accuracy: {(100*correct):>0.1f}%, Avg loss: {test_loss:>8f} \\n\")"
      ]
    },
    {
      "cell_type": "code",
      "execution_count": null,
      "metadata": {
        "colab": {
          "base_uri": "https://localhost:8080/"
        },
        "id": "OvqScXegMyJl",
        "outputId": "4df3436a-a81d-448d-b22b-9618355a394d"
      },
      "outputs": [
        {
          "output_type": "stream",
          "name": "stdout",
          "text": [
            "Epoch 1\n",
            "\n",
            "Loss : 0.202866 [   64/60000]\n",
            "Loss : 0.309743 [ 6464/60000]\n",
            "Loss : 0.178530 [12864/60000]\n",
            "Loss : 0.256628 [19264/60000]\n",
            "Loss : 0.264839 [25664/60000]\n",
            "Loss : 0.328915 [32064/60000]\n",
            "Loss : 0.273957 [38464/60000]\n",
            "Loss : 0.337277 [44864/60000]\n",
            "Loss : 0.317218 [51264/60000]\n",
            "Loss : 0.345660 [57664/60000]\n",
            "Test Error: \n",
            " Accuracy: 87.4%, Avg loss: 0.350244 \n",
            "\n",
            "Epoch 2\n",
            "\n",
            "Loss : 0.202768 [   64/60000]\n",
            "Loss : 0.304116 [ 6464/60000]\n",
            "Loss : 0.177279 [12864/60000]\n",
            "Loss : 0.244934 [19264/60000]\n",
            "Loss : 0.269842 [25664/60000]\n",
            "Loss : 0.321473 [32064/60000]\n",
            "Loss : 0.271453 [38464/60000]\n",
            "Loss : 0.339924 [44864/60000]\n",
            "Loss : 0.312394 [51264/60000]\n",
            "Loss : 0.337895 [57664/60000]\n",
            "Test Error: \n",
            " Accuracy: 87.2%, Avg loss: 0.354012 \n",
            "\n",
            "Epoch 3\n",
            "\n",
            "Loss : 0.190738 [   64/60000]\n",
            "Loss : 0.278504 [ 6464/60000]\n",
            "Loss : 0.175181 [12864/60000]\n",
            "Loss : 0.242947 [19264/60000]\n",
            "Loss : 0.250175 [25664/60000]\n",
            "Loss : 0.310642 [32064/60000]\n",
            "Loss : 0.269113 [38464/60000]\n",
            "Loss : 0.318400 [44864/60000]\n",
            "Loss : 0.300927 [51264/60000]\n",
            "Loss : 0.320161 [57664/60000]\n",
            "Test Error: \n",
            " Accuracy: 87.1%, Avg loss: 0.357759 \n",
            "\n",
            "Epoch 4\n",
            "\n",
            "Loss : 0.183980 [   64/60000]\n",
            "Loss : 0.273977 [ 6464/60000]\n",
            "Loss : 0.176683 [12864/60000]\n",
            "Loss : 0.238425 [19264/60000]\n",
            "Loss : 0.238307 [25664/60000]\n",
            "Loss : 0.301321 [32064/60000]\n",
            "Loss : 0.266227 [38464/60000]\n",
            "Loss : 0.318704 [44864/60000]\n",
            "Loss : 0.279404 [51264/60000]\n",
            "Loss : 0.307672 [57664/60000]\n",
            "Test Error: \n",
            " Accuracy: 87.3%, Avg loss: 0.354642 \n",
            "\n",
            "Epoch 5\n",
            "\n",
            "Loss : 0.180146 [   64/60000]\n",
            "Loss : 0.260603 [ 6464/60000]\n",
            "Loss : 0.170154 [12864/60000]\n",
            "Loss : 0.231956 [19264/60000]\n",
            "Loss : 0.229906 [25664/60000]\n",
            "Loss : 0.294034 [32064/60000]\n",
            "Loss : 0.267928 [38464/60000]\n",
            "Loss : 0.298039 [44864/60000]\n",
            "Loss : 0.260599 [51264/60000]\n",
            "Loss : 0.293365 [57664/60000]\n",
            "Test Error: \n",
            " Accuracy: 86.8%, Avg loss: 0.364075 \n",
            "\n",
            "Epoch 6\n",
            "\n",
            "Loss : 0.197741 [   64/60000]\n",
            "Loss : 0.250583 [ 6464/60000]\n",
            "Loss : 0.167644 [12864/60000]\n",
            "Loss : 0.231136 [19264/60000]\n",
            "Loss : 0.229300 [25664/60000]\n",
            "Loss : 0.293166 [32064/60000]\n",
            "Loss : 0.248938 [38464/60000]\n",
            "Loss : 0.296427 [44864/60000]\n",
            "Loss : 0.259603 [51264/60000]\n",
            "Loss : 0.277756 [57664/60000]\n",
            "Test Error: \n",
            " Accuracy: 87.5%, Avg loss: 0.354742 \n",
            "\n",
            "Epoch 7\n",
            "\n",
            "Loss : 0.187857 [   64/60000]\n",
            "Loss : 0.233361 [ 6464/60000]\n",
            "Loss : 0.163041 [12864/60000]\n",
            "Loss : 0.226986 [19264/60000]\n",
            "Loss : 0.222426 [25664/60000]\n",
            "Loss : 0.282662 [32064/60000]\n",
            "Loss : 0.241174 [38464/60000]\n",
            "Loss : 0.275319 [44864/60000]\n",
            "Loss : 0.252535 [51264/60000]\n",
            "Loss : 0.288566 [57664/60000]\n",
            "Test Error: \n",
            " Accuracy: 87.8%, Avg loss: 0.348805 \n",
            "\n",
            "Epoch 8\n",
            "\n",
            "Loss : 0.180959 [   64/60000]\n",
            "Loss : 0.233445 [ 6464/60000]\n",
            "Loss : 0.169815 [12864/60000]\n",
            "Loss : 0.216084 [19264/60000]\n",
            "Loss : 0.225194 [25664/60000]\n",
            "Loss : 0.265127 [32064/60000]\n",
            "Loss : 0.245111 [38464/60000]\n",
            "Loss : 0.281157 [44864/60000]\n",
            "Loss : 0.251038 [51264/60000]\n",
            "Loss : 0.275919 [57664/60000]\n",
            "Test Error: \n",
            " Accuracy: 87.8%, Avg loss: 0.352106 \n",
            "\n",
            "Epoch 9\n",
            "\n",
            "Loss : 0.186533 [   64/60000]\n",
            "Loss : 0.231565 [ 6464/60000]\n",
            "Loss : 0.156165 [12864/60000]\n",
            "Loss : 0.210444 [19264/60000]\n",
            "Loss : 0.225548 [25664/60000]\n",
            "Loss : 0.262737 [32064/60000]\n",
            "Loss : 0.239284 [38464/60000]\n",
            "Loss : 0.272609 [44864/60000]\n",
            "Loss : 0.259080 [51264/60000]\n",
            "Loss : 0.293210 [57664/60000]\n",
            "Test Error: \n",
            " Accuracy: 87.7%, Avg loss: 0.353001 \n",
            "\n",
            "Epoch 10\n",
            "\n",
            "Loss : 0.165705 [   64/60000]\n",
            "Loss : 0.221895 [ 6464/60000]\n",
            "Loss : 0.158028 [12864/60000]\n",
            "Loss : 0.198486 [19264/60000]\n",
            "Loss : 0.222032 [25664/60000]\n",
            "Loss : 0.250053 [32064/60000]\n",
            "Loss : 0.236685 [38464/60000]\n",
            "Loss : 0.245049 [44864/60000]\n",
            "Loss : 0.250109 [51264/60000]\n",
            "Loss : 0.271646 [57664/60000]\n",
            "Test Error: \n",
            " Accuracy: 87.8%, Avg loss: 0.346759 \n",
            "\n",
            "ALl DONE!!!\n"
          ]
        }
      ],
      "source": [
        "epochs = 10\n",
        "for t in range(epochs):\n",
        "  print(f\"Epoch {t+1}\\n\")\n",
        "  train(training_loader,model,loss_function,optimizer)\n",
        "  test(test_loader,model,loss_function)\n",
        "print(\"ALl DONE!!!\")"
      ]
    }
  ],
  "metadata": {
    "colab": {
      "provenance": []
    },
    "kernelspec": {
      "display_name": "Python 3",
      "name": "python3"
    },
    "language_info": {
      "name": "python"
    }
  },
  "nbformat": 4,
  "nbformat_minor": 0
}